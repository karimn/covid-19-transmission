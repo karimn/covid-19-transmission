{
  "nbformat": 4,
  "nbformat_minor": 0,
  "metadata": {
    "colab": {
      "name": "Modeling Heterogeneous COVID-19 Spread",
      "provenance": [],
      "authorship_tag": "ABX9TyO7hwbxYHKOC2b16aoqUYUI",
      "include_colab_link": true
    },
    "kernelspec": {
      "name": "ir",
      "display_name": "R"
    }
  },
  "cells": [
    {
      "cell_type": "markdown",
      "metadata": {
        "id": "view-in-github",
        "colab_type": "text"
      },
      "source": [
        "<a href=\"https://colab.research.google.com/github/karimn/covid-19-transmission/blob/main-karimn/Modeling_Heterogeneous_COVID_19_Spread.ipynb\" target=\"_parent\"><img src=\"https://colab.research.google.com/assets/colab-badge.svg\" alt=\"Open In Colab\"/></a>"
      ]
    },
    {
      "cell_type": "markdown",
      "metadata": {
        "id": "O7Dz0aMMzUj3",
        "colab_type": "text"
      },
      "source": [
        "# Motivation\n",
        "\n",
        "Many areas of the developing world (e.g. Kenya, India, Mexico) currently have relatively few confirmed COVID-19 cases or deaths. It is unclear whether the official data simply reflects a lack of testing, delayed seeding of an epidemic that will spread rapidly, or fundamental epidemiological differences (due to biological or disease transmission factors). \n",
        "\n",
        "Better understanding of COVID-19 spread in developing countries could be critical to better informed policies.  Much of the existing COVID-19 modeling focuses on developed countries, but there are a variety of reasons that the spread of the epidemic might potentially differ in low-income countries For example, as suggested by Carleton & Meng (2020) and Wang et al. (2020), differences in temperature and humidity could affect disease transmission.  Demographic structure is very different in developing countries, with many more young people and fewer elderly people. There may also be differences in the levels of seeding with different countries putting into place measures with different levels of stringency. For example, India and South Africa have imposed lockdown policies that will likely impose significant economic and social costs, while other countries, such as Mexico, have done much less. Patterns of social interaction in rural areas of developing countries and urban slums differ substantially both from each other and from typical patterns of interaction in developed countries. There are also important differences in health care quality and utilization, state capacity, and social norms within and across developing countries. These factors may affect both the spread of the disease in the absence of policy measures and the impact of policy measures.  \n",
        "\n"
      ]
    },
    {
      "cell_type": "markdown",
      "metadata": {
        "id": "_iL1Hf52z4l2",
        "colab_type": "text"
      },
      "source": [
        "# Project\n",
        "\n",
        "The project using global data both across and within countries to study heterogeneity in R0. We extend Vollmer et al. (2020) for our Bayesian modeling framework. The model has a latent number of infections, which then leads to latent number of deaths, which then leads to observed, COVID-attributable deaths. Latent variables are linked through convolutions of random variables. We use google mobility data to infer contact rates.\n",
        "\n",
        "[Karim and Witold - feel free to expand on the model here]\n",
        "\n",
        "The main output of the model is R(t) and estimates of the responsiveness of R to mobility. We will characterize both the magnitude and drivers heterogeneity.\n",
        "\n",
        "[Similar to how we bring in time varying mobility to the model, can we do the same for weather? Happy to discuss]\n",
        "\n",
        "We focus on several potential drivers of heterogeneity:\n",
        "* Lower mortality risk due to demographics and co-morbidity\n",
        "* Underreporting / Testing regimes\n",
        "* Low level of seeding\n",
        "* High heterogeneity within country \n",
        "* Climate\n",
        "* Difference government measures\n"
      ]
    }
  ]
}